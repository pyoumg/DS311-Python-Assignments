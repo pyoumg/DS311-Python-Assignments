{
 "cells": [
  {
   "cell_type": "markdown",
   "metadata": {},
   "source": [
    "# SQL - Lab Assignment #1\n",
    "\n",
    "## Introduction\n",
    "\n",
    "In this lesson, we'll run through some practice questions to reinforce your knowledge of SQL queries.\n",
    "\n",
    "## Objectives\n",
    "\n",
    "You will be able to:\n",
    "\n",
    "- Practice interpreting \"word problems\" and translating them into SQL queries\n",
    "- Practice deciding and performing whichever type of `JOIN` is best for retrieving desired data\n",
    "- Practice using `GROUP BY` statements in SQL to apply aggregate functions like `COUNT`, `MAX`, `MIN`, and `SUM`\n",
    "- Practice using the `HAVING` clause to compare different aggregates\n",
    "- Practice writing subqueries to decompose complex queries"
   ]
  },
  {
   "cell_type": "markdown",
   "metadata": {},
   "source": [
    "## Your Task: Querying a Customer Database\n",
    "\n",
    "![shelves filled with colorful model cars](img/model_cars.jpg)\n",
    "\n",
    "Photo by <a href=\"https://unsplash.com/@bright?utm_source=unsplash&utm_medium=referral&utm_content=creditCopyText\">Karen Vardazaryan</a> on <a href=\"/s/photos/model-car?utm_source=unsplash&utm_medium=referral&utm_content=creditCopyText\">Unsplash</a>\n",
    "\n",
    "### Business Understanding\n",
    "\n",
    "Your employer makes miniature models of products such as classic cars, motorcycles, and planes. They want you to pull several reports on different segments of their past customers, in order to better understand past sales as well as determine which customers will receive promotional material.\n",
    "\n",
    "### Data Understanding\n",
    "\n",
    "You may remember this database from a previous lab. As a refresher, here's the ERD diagram for this database:\n",
    "\n",
    "<img src='img/Database-Schema.png'>\n",
    "\n",
    "The queries you are asked to write will become more complex over the course of the lab."
   ]
  },
  {
   "cell_type": "markdown",
   "metadata": {},
   "source": [
    "## Getting Started\n",
    "\n",
    "As in previous labs, we'll make use of the `sqlite3` library as well as `pandas`. By combining them, we'll be able to write queries as Python strings, then display the results in a conveniently-formatted table.\n",
    "\n",
    "***Note:*** Throughout this lesson, the only thing you will need to change is the content of the strings containing SQL queries. You do NOT need to modify any of the code relating to `pandas`; this is just to help make the output more readable.\n",
    "\n",
    "In the cell below, we:\n",
    "\n",
    "* Import the necessary libraries, `pandas` and `sqlite3`\n",
    "* Establish a connection to the database `data.sqlite`, called `conn`"
   ]
  },
  {
   "cell_type": "code",
   "execution_count": null,
   "metadata": {},
   "outputs": [],
   "source": [
    "# Run this cell without changes\n",
    "import sqlite3\n",
    "import pandas as pd\n",
    "\n",
    "conn = sqlite3.Connection(\"data/data.sqlite\")"
   ]
  },
  {
   "cell_type": "markdown",
   "metadata": {},
   "source": [
    "The basic structure of a query in this lab is:\n",
    "\n",
    "* Write the SQL query inside of the Python string\n",
    "* Use `pd.read_sql` to display the results of the query in a formatted table\n",
    "\n",
    "For example, if we wanted to select a list of all product lines from the company, that would look like this:"
   ]
  },
  {
   "cell_type": "code",
   "execution_count": null,
   "metadata": {},
   "outputs": [],
   "source": [
    "# Run this cell without changes\n",
    "q0 = \"\"\"\n",
    "SELECT productline\n",
    "FROM productlines\n",
    ";\n",
    "\"\"\"\n",
    "\n",
    "pd.read_sql(q0, conn)"
   ]
  },
  {
   "cell_type": "markdown",
   "metadata": {},
   "source": [
    "From now on, you will replace `None` within these Python strings with the actual SQL query code."
   ]
  },
  {
   "cell_type": "markdown",
   "metadata": {},
   "source": [
    "## Part 1: Basic Queries\n",
    "\n",
    "First, let's review some basic SQL queries, which do not require any joining, aggregation, or subqueries.\n",
    "\n",
    "### Query 1: Customers with Credit Over 25,000 in California\n",
    "Write a query that gets the contact first name, contact last name, phone number, address line 1, and credit limit for all customers in California with a credit limit greater than 25000.00.\n",
    "\n",
    "(California means that the `state` value is `'CA'`.)\n",
    "\n",
    "#### Expected Output\n",
    "\n",
    "<img src='img/expected_output_q1.png'>"
   ]
  },
  {
   "cell_type": "code",
   "execution_count": null,
   "metadata": {},
   "outputs": [],
   "source": [
    "# Replace None with appropriate SQL code\n",
    "q1 = \"\"\"\n",
    "None\n",
    ";\n",
    "\"\"\"\n",
    "\n",
    "q1_result = pd.read_sql(q1, conn)\n",
    "q1_result"
   ]
  },
  {
   "cell_type": "markdown",
   "metadata": {},
   "source": [
    "The following code checks that your result is correct:"
   ]
  },
  {
   "cell_type": "code",
   "execution_count": null,
   "metadata": {},
   "outputs": [],
   "source": [
    "# Run this cell without changes\n",
    "\n",
    "# Testing which columns are returned\n",
    "assert list(q1_result.columns) == ['contactFirstName', 'contactLastName', 'phone', 'addressLine1', 'creditLimit']\n",
    "\n",
    "# Testing how many rows are returned\n",
    "assert len(q1_result) == 10\n",
    "\n",
    "# Testing the values in the first result\n",
    "assert list(q1_result.iloc[0]) == ['Susan', 'Nelson', '4155551450', '5677 Strong St.', 210500]"
   ]
  },
  {
   "cell_type": "markdown",
   "metadata": {},
   "source": [
    "### Query 2: Customers Outside of the USA with \"Collect\" in Their Name\n",
    "\n",
    "Write a query that gets the customer name, state, and country, for all customers outside of the USA with `\"Collect\"` as part of their customer name.\n",
    "\n",
    "We are looking for customers with names like `\"Australian Collectors, Co.\"` or `\"BG&E Collectables\"`, where `country` is not `\"USA\"`.\n",
    "\n",
    "#### Expected Output\n",
    "\n",
    "<img src='img/expected_output_q2.png'>"
   ]
  },
  {
   "cell_type": "code",
   "execution_count": null,
   "metadata": {},
   "outputs": [],
   "source": [
    "# Replace None with appropriate SQL code\n",
    "q2 = \"\"\"\n",
    "None\n",
    ";\n",
    "\"\"\"\n",
    "\n",
    "q2_result = pd.read_sql(q2, conn)\n",
    "q2_result"
   ]
  },
  {
   "cell_type": "markdown",
   "metadata": {},
   "source": [
    "The following code checks that your result is correct:"
   ]
  },
  {
   "cell_type": "code",
   "execution_count": null,
   "metadata": {},
   "outputs": [],
   "source": [
    "# Run this cell without changes\n",
    "\n",
    "# Testing which columns are returned\n",
    "assert list(q2_result.columns) == ['customerName', 'state', 'country']\n",
    "\n",
    "# Testing how many rows are returned\n",
    "assert len(q2_result) == 15\n",
    "\n",
    "# Testing the values in the first result\n",
    "assert list(q2_result.iloc[0]) == ['Australian Collectors, Co.', 'Victoria', 'Australia']"
   ]
  },
  {
   "cell_type": "markdown",
   "metadata": {},
   "source": [
    "### Query 3: Customers without Null States\n",
    "\n",
    "Write a query that gets the full address (line 1, line 2, city, state, postal code, country) for all customers where the `state` field is not null.\n",
    "\n",
    "Here we'll only display the first 10 results.\n",
    "\n",
    "#### Expected Output\n",
    "\n",
    "<img src='img/expected_output_q3.png'>"
   ]
  },
  {
   "cell_type": "code",
   "execution_count": null,
   "metadata": {},
   "outputs": [],
   "source": [
    "# Replace None with appropriate SQL code\n",
    "q3 = \"\"\"\n",
    "None\n",
    ";\n",
    "\"\"\"\n",
    "\n",
    "q3_result = pd.read_sql(q3, conn)\n",
    "q3_result.head(10)"
   ]
  },
  {
   "cell_type": "markdown",
   "metadata": {},
   "source": [
    "The following code checks that your result is correct:"
   ]
  },
  {
   "cell_type": "code",
   "execution_count": null,
   "metadata": {},
   "outputs": [],
   "source": [
    "# Run this cell without changes\n",
    "\n",
    "# Testing which columns are returned\n",
    "assert list(q3_result.columns) == ['addressLine1', 'addressLine2', 'city', 'state', 'postalCode', 'country']\n",
    "\n",
    "# Testing how many rows are returned\n",
    "assert len(q3_result) == 49\n",
    "\n",
    "# Testing the values in the first result\n",
    "assert list(q3_result.iloc[0]) == ['8489 Strong St.', '', 'Las Vegas', 'NV', '83030', 'USA']"
   ]
  },
  {
   "cell_type": "markdown",
   "metadata": {},
   "source": [
    "You have now completed all of the basic queries!\n",
    "\n",
    "## Part 2: Aggregate and Join Queries\n",
    "\n",
    "### Query 4: Average Credit Limit by State in USA\n",
    "\n",
    "Write a query that gets the average credit limit per state in the USA.\n",
    "\n",
    "The two fields selected should be `state` and `average_credit_limit`, which is the average of the `creditLimit` field for that state.\n",
    "\n",
    "#### Expected Output\n",
    "\n",
    "<img src='img/expected_output_q4.png'>"
   ]
  },
  {
   "cell_type": "code",
   "execution_count": null,
   "metadata": {},
   "outputs": [],
   "source": [
    "# Replace None with appropriate SQL code\n",
    "q4 = \"\"\"\n",
    "None\n",
    ";\n",
    "\"\"\"\n",
    "\n",
    "q4_result = pd.read_sql(q4, conn)\n",
    "q4_result"
   ]
  },
  {
   "cell_type": "markdown",
   "metadata": {},
   "source": [
    "The following code checks that your result is correct:"
   ]
  },
  {
   "cell_type": "code",
   "execution_count": null,
   "metadata": {},
   "outputs": [],
   "source": [
    "# Run this cell without changes\n",
    "\n",
    "# Testing which columns are returned\n",
    "assert list(q4_result.columns) == ['state', 'average_credit_limit']\n",
    "\n",
    "# Testing how many rows are returned\n",
    "assert len(q4_result) == 8\n",
    "\n",
    "# Testing the values in the first result\n",
    "first_result_list = list(q4_result.iloc[0])\n",
    "assert first_result_list[0] == 'CA' \n",
    "assert round(first_result_list[1], 3) == round(83854.54545454546, 3)"
   ]
  },
  {
   "cell_type": "markdown",
   "metadata": {},
   "source": [
    "### Query 5: Joining Customers and Orders\n",
    "\n",
    "Write a query that uses `JOIN` statements to get the customer name, order number, and status for all orders. Refer to the ERD above to understand which tables contain these pieces of information, and the relationship between these tables.\n",
    "\n",
    "We will only display the first 15 results.\n",
    "\n",
    "#### Expected Output\n",
    "\n",
    "<img src='img/expected_output_q5.png'>"
   ]
  },
  {
   "cell_type": "code",
   "execution_count": null,
   "metadata": {},
   "outputs": [],
   "source": [
    "# Replace None with appropriate SQL code\n",
    "q5 = \"\"\"\n",
    "None\n",
    ";\n",
    "\"\"\"\n",
    "q5_result = pd.read_sql(q5, conn)\n",
    "q5_result.head(15)"
   ]
  },
  {
   "cell_type": "markdown",
   "metadata": {},
   "source": [
    "The following code checks that your result is correct:"
   ]
  },
  {
   "cell_type": "code",
   "execution_count": null,
   "metadata": {},
   "outputs": [],
   "source": [
    "# Run this cell without changes\n",
    "\n",
    "# Testing which columns are returned\n",
    "assert list(q5_result.columns) == ['customerName', 'orderNumber', 'status']\n",
    "\n",
    "# Testing how many rows are returned\n",
    "assert len(q5_result) == 326\n",
    "\n",
    "# Testing the values in the first result\n",
    "assert list(q5_result.iloc[0]) == ['Atelier graphique', 10123, 'Shipped']"
   ]
  },
  {
   "cell_type": "markdown",
   "metadata": {},
   "source": [
    "### Query 6: Total Payments\n",
    "\n",
    "Write a query that uses `JOIN` statements to get top 10 customers in terms of total payment amount. Find the customer name, customer number, and sum of all payments made. The results should be ordered by the sum of payments made, starting from the highest value.\n",
    "\n",
    "The three columns selected should be `customerName`, `customerNumber` and `total_payment_amount`.\n",
    "\n",
    "#### Expected Output\n",
    "\n",
    "<img src='img/expected_output_q6.png'>"
   ]
  },
  {
   "cell_type": "code",
   "execution_count": null,
   "metadata": {},
   "outputs": [],
   "source": [
    "# Replace None with appropriate SQL code\n",
    "q6 = \"\"\"\n",
    "None\n",
    ";\n",
    "\"\"\"\n",
    "q6_result = pd.read_sql(q6, conn)\n",
    "q6_result"
   ]
  },
  {
   "cell_type": "markdown",
   "metadata": {},
   "source": [
    "The following code checks that your result is correct:"
   ]
  },
  {
   "cell_type": "code",
   "execution_count": null,
   "metadata": {},
   "outputs": [],
   "source": [
    "# Run this cell without changes\n",
    "\n",
    "# Testing which columns are returned\n",
    "assert list(q6_result.columns) == ['customerName', 'customerNumber', 'total_payment_amount']\n",
    "\n",
    "# Testing how many rows are returned\n",
    "assert len(q6_result) == 10\n",
    "\n",
    "# Testing the values in the first result\n",
    "assert list(q6_result.iloc[0]) == ['Euro+ Shopping Channel', 141, 715738.98]"
   ]
  },
  {
   "cell_type": "markdown",
   "metadata": {},
   "source": [
    "### Query 7: Products that Have Been Purchased 10 or More Times\n",
    "\n",
    "Write a query that, for each customer, finds all of the products that they have purchased 10 or more times cumulatively. For each record, return  the customer name, customer number, product name, product code, and total number ordered. Sort the rows in descending order by the quantity ordered.\n",
    "\n",
    "The five columns selected should be `customerName`, `customerNumber`, `productName`, `productCode`, and `total_ordered`, where `total_ordered` is the sum of all quantities of that product ordered by that customer.\n",
    "\n",
    "**_Hint_**: For this one, you'll need to make use of `HAVING`, `GROUP BY`, and `ORDER BY` — make sure you get the order of them correct!\n",
    "\n",
    "#### Expected Output\n",
    "\n",
    "<img src='img/expected_output_q7.png'>"
   ]
  },
  {
   "cell_type": "code",
   "execution_count": null,
   "metadata": {},
   "outputs": [],
   "source": [
    "# Replace None with approprite SQL code\n",
    "q7 = \"\"\"\n",
    "None\n",
    ";\n",
    "\"\"\"\n",
    "q7_result = pd.read_sql(q7, conn)\n",
    "q7_result"
   ]
  },
  {
   "cell_type": "markdown",
   "metadata": {},
   "source": [
    "The following code checks that your result is correct:"
   ]
  },
  {
   "cell_type": "code",
   "execution_count": null,
   "metadata": {},
   "outputs": [],
   "source": [
    "# Run this cell without changes\n",
    "\n",
    "# Testing which columns are returned\n",
    "assert list(q7_result.columns) == ['customerName', 'customerNumber', 'productName', 'productCode', 'total_ordered']\n",
    "\n",
    "# Testing how many rows are returned\n",
    "assert len(q7_result) == 2531\n",
    "\n",
    "# Testing the values in the first result\n",
    "assert list(q7_result.iloc[0]) == ['Petit Auto', 314, '1913 Ford Model T Speedster', 'S18_2949', 10]"
   ]
  },
  {
   "cell_type": "markdown",
   "metadata": {},
   "source": [
    "### Query 8: Employees in Offices with Fewer than Five Employees\n",
    "\n",
    "Finally, get the first name, last name, employee number, and office code for employees from offices with fewer than 5 employees.\n",
    "\n",
    "***Hint:*** Use a subquery to find the relevant offices.\n",
    "\n",
    "#### Expected Output\n",
    "\n",
    "<img src='img/expected_output_q8.png'>"
   ]
  },
  {
   "cell_type": "code",
   "execution_count": null,
   "metadata": {},
   "outputs": [],
   "source": [
    "# Replace None with approprite SQL code\n",
    "q8 = \"\"\"\n",
    "None\n",
    ";\n",
    "\"\"\"\n",
    "q8_result = pd.read_sql(q8, conn)\n",
    "q8_result"
   ]
  },
  {
   "cell_type": "markdown",
   "metadata": {},
   "source": [
    "The following code checks that your result is correct:"
   ]
  },
  {
   "cell_type": "code",
   "execution_count": null,
   "metadata": {},
   "outputs": [],
   "source": [
    "# Run this cell without changes\n",
    "\n",
    "# Testing which columns are returned\n",
    "assert list(q8_result.columns) == ['lastName', 'firstName', 'employeeNumber', 'officeCode']\n",
    "\n",
    "# Testing how many rows are returned\n",
    "assert len(q8_result) == 12\n",
    "\n",
    "# Testing the values in the first result\n",
    "assert list(q8_result.iloc[0]) == ['Patterson', 'William', 1088, 6]"
   ]
  },
  {
   "cell_type": "markdown",
   "metadata": {},
   "source": [
    "Now that we are finished writing queries, close the connection to the database:"
   ]
  },
  {
   "cell_type": "code",
   "execution_count": null,
   "metadata": {},
   "outputs": [],
   "source": [
    "# Run this cell without changes\n",
    "conn.close()"
   ]
  },
  {
   "cell_type": "markdown",
   "metadata": {},
   "source": [
    "## Summary\n",
    "\n",
    "In this lesson, we produced several data queries for a model car company, mainly focused around its customer data. Along the way, we reviewed many of the major concepts and keywords associated with SQL `SELECT` queries: `FROM`, `WHERE`, `GROUP BY`, `HAVING`, `ORDER BY`, `JOIN`, `SUM`, `COUNT`, and `AVG`."
   ]
  }
 ],
 "metadata": {
  "hide_input": false,
  "kernelspec": {
   "display_name": "Python 3 (ipykernel)",
   "language": "python",
   "name": "python3"
  },
  "language_info": {
   "codemirror_mode": {
    "name": "ipython",
    "version": 3
   },
   "file_extension": ".py",
   "mimetype": "text/x-python",
   "name": "python",
   "nbconvert_exporter": "python",
   "pygments_lexer": "ipython3",
   "version": "3.8.12"
  },
  "latex_envs": {
   "LaTeX_envs_menu_present": true,
   "autoclose": false,
   "autocomplete": true,
   "bibliofile": "biblio.bib",
   "cite_by": "apalike",
   "current_citInitial": 1,
   "eqLabelWithNumbers": true,
   "eqNumInitial": 1,
   "hotkeys": {
    "equation": "Ctrl-E",
    "itemize": "Ctrl-I"
   },
   "labels_anchors": false,
   "latex_user_defs": false,
   "report_style_numbering": false,
   "user_envs_cfg": false
  },
  "nbTranslate": {
   "displayLangs": [
    "*"
   ],
   "hotkey": "alt-t",
   "langInMainMenu": true,
   "sourceLang": "en",
   "targetLang": "fr",
   "useGoogleTranslate": true
  },
  "toc": {
   "base_numbering": 1,
   "nav_menu": {},
   "number_sections": true,
   "sideBar": true,
   "skip_h1_title": false,
   "title_cell": "Table of Contents",
   "title_sidebar": "Contents",
   "toc_cell": false,
   "toc_position": {},
   "toc_section_display": true,
   "toc_window_display": false
  },
  "varInspector": {
   "cols": {
    "lenName": 16,
    "lenType": 16,
    "lenVar": 40
   },
   "kernels_config": {
    "python": {
     "delete_cmd_postfix": "",
     "delete_cmd_prefix": "del ",
     "library": "var_list.py",
     "varRefreshCmd": "print(var_dic_list())"
    },
    "r": {
     "delete_cmd_postfix": ") ",
     "delete_cmd_prefix": "rm(",
     "library": "var_list.r",
     "varRefreshCmd": "cat(var_dic_list()) "
    }
   },
   "types_to_exclude": [
    "module",
    "function",
    "builtin_function_or_method",
    "instance",
    "_Feature"
   ],
   "window_display": false
  }
 },
 "nbformat": 4,
 "nbformat_minor": 2
}
