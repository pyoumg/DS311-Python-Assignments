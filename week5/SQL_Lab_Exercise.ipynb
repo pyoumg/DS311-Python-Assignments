{
 "cells": [
  {
   "cell_type": "markdown",
   "id": "gross-nowhere",
   "metadata": {},
   "source": [
    "# SQL Lab Exercise\n",
    "\n",
    "## Web Databases: data.world\n",
    "\n",
    "For the rest of this lesson, we'll be exploring databases in [data.world](https://data.world/), a web database that we can query using SQL in our browser. For reference, you can see the instructions for creating a new project here: [Getting Started Working with Data at data.world](https://help.data.world/hc/en-us/articles/360008853693-Getting-started-guide#working_with_data)\n"
   ]
  },
  {
   "cell_type": "markdown",
   "id": "optional-indian",
   "metadata": {},
   "source": [
    "### Step 1: Create a data.world account\n",
    "\n",
    "You will need to enter and verify your email address."
   ]
  },
  {
   "cell_type": "markdown",
   "id": "superb-military",
   "metadata": {},
   "source": [
    "### Step 2: Create a project using this [Austin AirBnB](https://data.world/jonloyens/inside-airbnb-austin) dataset\n",
    "\n",
    "Navigate to [this page](https://data.world/jonloyens/inside-airbnb-austin) and use the button at the top right of the page to create a new project using the data.\n",
    "\n",
    "![](img/data_world_austin_airbnb_new_proj.png)"
   ]
  },
  {
   "cell_type": "markdown",
   "id": "divided-madonna",
   "metadata": {},
   "source": [
    "### Step 3: Create a SQL query\n",
    "\n",
    "In your project, use the \"+ Add\" button to add a SQL query.\n",
    "\n",
    "![](img/data_world_add_sql_query.png)"
   ]
  },
  {
   "cell_type": "markdown",
   "id": "meaningful-celtic",
   "metadata": {},
   "source": [
    "### Step 4: Run a simple SQL query\n",
    "\n",
    "Try entering \"SELECT * FROM listings\" and clicking the \"Run Query\" button in the top right."
   ]
  },
  {
   "cell_type": "markdown",
   "id": "antique-collection",
   "metadata": {},
   "source": [
    "### Step 5: Practice using SQL to explore the data\n",
    "\n",
    "Below are some exercises to practice your SQL skills and help explore the data. You will need to explore the table schemas to complete these exercises. \n",
    "\n",
    "You may find it helpful to click on the corresponding .csv files to inspect the data, or look at the columns in each table in the right sidebar."
   ]
  },
  {
   "cell_type": "markdown",
   "id": "technological-experiment",
   "metadata": {},
   "source": [
    "#### Exercise 1: Create a table showing the number of listings in each neighborhood"
   ]
  },
  {
   "cell_type": "markdown",
   "id": "binary-consolidation",
   "metadata": {},
   "source": [
    "<details>\n",
    "    <summary><b><u>Click Here for Answer Code</u></b></summary>\n",
    "    \n",
    "```sql\n",
    "    SELECT neighbourhood, COUNT(*)\n",
    "    FROM listings\n",
    "    GROUP BY neighbourhood\n",
    "```   \n",
    "</details>"
   ]
  },
  {
   "cell_type": "markdown",
   "id": "systematic-attribute",
   "metadata": {},
   "source": [
    "#### Exercise 2: Create a table showing the 20 listings with the most reviews"
   ]
  },
  {
   "cell_type": "markdown",
   "id": "demonstrated-shock",
   "metadata": {},
   "source": [
    "<details>\n",
    "    <summary><b><u>Click Here for Answer Code</u></b></summary>\n",
    "\n",
    "```sql\n",
    "    SELECT *\n",
    "    FROM listings\n",
    "    ORDER BY number_of_reviews DESC\n",
    "    LIMIT 20\n",
    "```\n",
    "</details>"
   ]
  },
  {
   "cell_type": "markdown",
   "id": "iraqi-clinton",
   "metadata": {},
   "source": [
    "#### Exercise 3: Create a table showing all of the reviews for listings that are \"Bed & Breakfast\" property types."
   ]
  },
  {
   "cell_type": "markdown",
   "id": "facial-switzerland",
   "metadata": {},
   "source": [
    "<details>\n",
    "    <summary><b><u>Click Here for Answer Code</u></b></summary>\n",
    "\n",
    "```sql    \n",
    "    SELECT *\n",
    "    FROM reviews\n",
    "    INNER JOIN listings\n",
    "        ON listings.id = reviews.listing_id\n",
    "    WHERE listings.property_type = \"Bed & Breakfast\"\n",
    "```\n",
    "</details>"
   ]
  },
  {
   "cell_type": "markdown",
   "id": "pursuant-piece",
   "metadata": {},
   "source": [
    "#### Exercise 4: Run your own query using a subquery or CTE. (**Optional!!**)"
   ]
  },
  {
   "cell_type": "markdown",
   "id": "stainless-middle",
   "metadata": {},
   "source": [
    "Note that the syntax and functionality for subqueries and CTEs in data.world are more limited than SQLite, so try creating simple ones."
   ]
  },
  {
   "cell_type": "markdown",
   "id": "89a2b61d",
   "metadata": {},
   "source": [
    "### Submitting the Lab Exercise:\n",
    "\n",
    "Instruction:\n",
    "- Run some of the queries from this exercise on data.world\n",
    "- Take one screen shot of a query with the output table on data.world\n",
    "- Push the image file to the **Assignment Repo** then submit it to the submission folder on iLearn "
   ]
  },
  {
   "cell_type": "markdown",
   "id": "33ade85c",
   "metadata": {},
   "source": [
    "exercise1\n",
    "![](img/exercise1.jpg)"
   ]
  },
  {
   "cell_type": "markdown",
   "id": "c423640d",
   "metadata": {},
   "source": [
    "exercise2\n",
    "![](img/exercise2.jpg)"
   ]
  },
  {
   "cell_type": "markdown",
   "id": "42e6451a",
   "metadata": {},
   "source": [
    "exercise3\n",
    "![](img/exercise3.jpg)"
   ]
  },
  {
   "cell_type": "code",
   "execution_count": null,
   "id": "15a441b6",
   "metadata": {},
   "outputs": [],
   "source": []
  }
 ],
 "metadata": {
  "hide_input": false,
  "kernelspec": {
   "display_name": "Python 3 (ipykernel)",
   "language": "python",
   "name": "python3"
  },
  "language_info": {
   "codemirror_mode": {
    "name": "ipython",
    "version": 3
   },
   "file_extension": ".py",
   "mimetype": "text/x-python",
   "name": "python",
   "nbconvert_exporter": "python",
   "pygments_lexer": "ipython3",
   "version": "3.9.13"
  },
  "latex_envs": {
   "LaTeX_envs_menu_present": true,
   "autoclose": false,
   "autocomplete": true,
   "bibliofile": "biblio.bib",
   "cite_by": "apalike",
   "current_citInitial": 1,
   "eqLabelWithNumbers": true,
   "eqNumInitial": 1,
   "hotkeys": {
    "equation": "Ctrl-E",
    "itemize": "Ctrl-I"
   },
   "labels_anchors": false,
   "latex_user_defs": false,
   "report_style_numbering": false,
   "user_envs_cfg": false
  },
  "nbTranslate": {
   "displayLangs": [
    "*"
   ],
   "hotkey": "alt-t",
   "langInMainMenu": true,
   "sourceLang": "en",
   "targetLang": "fr",
   "useGoogleTranslate": true
  },
  "toc": {
   "base_numbering": 1,
   "nav_menu": {},
   "number_sections": true,
   "sideBar": true,
   "skip_h1_title": false,
   "title_cell": "Table of Contents",
   "title_sidebar": "Contents",
   "toc_cell": false,
   "toc_position": {},
   "toc_section_display": true,
   "toc_window_display": false
  },
  "varInspector": {
   "cols": {
    "lenName": 16,
    "lenType": 16,
    "lenVar": 40
   },
   "kernels_config": {
    "python": {
     "delete_cmd_postfix": "",
     "delete_cmd_prefix": "del ",
     "library": "var_list.py",
     "varRefreshCmd": "print(var_dic_list())"
    },
    "r": {
     "delete_cmd_postfix": ") ",
     "delete_cmd_prefix": "rm(",
     "library": "var_list.r",
     "varRefreshCmd": "cat(var_dic_list()) "
    }
   },
   "types_to_exclude": [
    "module",
    "function",
    "builtin_function_or_method",
    "instance",
    "_Feature"
   ],
   "window_display": false
  }
 },
 "nbformat": 4,
 "nbformat_minor": 5
}
